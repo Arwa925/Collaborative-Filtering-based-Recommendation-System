import pandas as pd
from src.data_loader import prepare_data

ratings_path = 'data/u.data'
movies_path = 'data/u.item'
users_path = 'data/u.user'

data = prepare_data(ratings_path, movies_path, users_path)

data.head()

print(data.isnull().sum())

data.info()
