from src.recommender import item_based_collaborative_filtering
from src.evaluation import calculate_rmse, precision_recall_at_k

predictions = item_based_collaborative_filtering(data)

rmse = calculate_rmse(predictions)
print(f'Item-Based CF RMSE: {rmse}')

precision, recall = precision_recall_at_k(predictions)
print(f'Item-Based CF Precision@K: {precision}, Recall@K: {recall}')
