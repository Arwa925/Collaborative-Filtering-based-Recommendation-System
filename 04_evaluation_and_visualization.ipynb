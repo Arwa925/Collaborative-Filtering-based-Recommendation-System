import matplotlib.pyplot as plt
import seaborn as sns
from src.recommender import user_based_collaborative_filtering, item_based_collaborative_filtering
from src.evaluation import calculate_rmse, precision_recall_at_k

user_predictions = user_based_collaborative_filtering(data)
item_predictions = item_based_collaborative_filtering(data)

user_rmse = calculate_rmse(user_predictions)
item_rmse = calculate_rmse(item_predictions)

print(f'User-Based CF RMSE: {user_rmse}')
print(f'Item-Based CF RMSE: {item_rmse}')

user_precision, user_recall = precision_recall_at_k(user_predictions)
item_precision, item_recall = precision_recall_at_k(item_predictions)

print(f'User-Based CF Precision@K: {user_precision}, Recall@K: {user_recall}')
print(f'Item-Based CF Precision@K: {item_precision}, Recall@K: {item_recall}')

# Visualization
labels = ['User-Based CF', 'Item-Based CF']
rmse_values = [user_rmse, item_rmse]
precision_values = [user_precision, item_precision]
recall_values = [user_recall, item_recall]

fig, axes = plt.subplots(1, 2, figsize=(14, 7))

sns.barplot(x=labels, y=rmse_values, ax=axes[0])
axes[0].set_title('RMSE Comparison')

sns.barplot(x=labels, y=precision_values, ax=axes[1])
axes[1].set_title('Precision@K Comparison')

plt.show()
