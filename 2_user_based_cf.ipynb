from src.recommender import user_based_collaborative_filtering
from src.evaluation import calculate_rmse, precision_recall_at_k

predictions = user_based_collaborative_filtering(data)

rmse = calculate_rmse(predictions)
print(f'User-Based CF RMSE: {rmse}')

precision, recall = precision_recall_at_k(predictions)
print(f'User-Based CF Precision@K: {precision}, Recall@K: {recall}')
